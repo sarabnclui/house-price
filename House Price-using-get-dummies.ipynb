{
 "cells": [
  {
   "cell_type": "code",
   "execution_count": 222,
   "id": "eedec68b-2a0e-4100-963e-b2d8411ec4d5",
   "metadata": {
    "scrolled": true
   },
   "outputs": [],
   "source": [
    "import pandas as pd\n",
    "import numpy as np\n",
    "import matplotlib.pyplot as plt\n",
    "from scipy.stats import chi2_contingency\n",
    "import plotly.express as px\n",
    "import seaborn as sns\n",
    "\n",
    "# Load dataset\n",
    "df = pd.read_csv('train.csv')  # Replace with your actual file path\n"
   ]
  },
  {
   "cell_type": "code",
   "execution_count": 223,
   "id": "35db9e9e-8637-48fb-889b-fb4f14d7515c",
   "metadata": {},
   "outputs": [
    {
     "name": "stdout",
     "output_type": "stream",
     "text": [
      "Index(['LotFrontage', 'MasVnrArea', 'GarageYrBlt'], dtype='object')\n"
     ]
    }
   ],
   "source": [
    "# Select only numerical columns with NaN values\n",
    "numerical_missing = df.select_dtypes(include='number').columns[df.select_dtypes(include='number').isnull().any()]\n",
    "\n",
    "print(numerical_missing)"
   ]
  },
  {
   "cell_type": "code",
   "execution_count": 224,
   "id": "b753e6e3-539e-4225-8933-601a41bfa983",
   "metadata": {},
   "outputs": [],
   "source": [
    "# Select only object or category columns\n",
    "cat_cols = df.select_dtypes(include=[\"object\", \"category\"]).columns\n",
    "\n",
    "# Fill NaN values in only those columns\n",
    "df[cat_cols] = df[cat_cols].fillna(\"Missing\")"
   ]
  },
  {
   "cell_type": "markdown",
   "id": "cc35cd5b-6e69-4b57-b890-51560410c49f",
   "metadata": {},
   "source": [
    "## 1.1 convert types"
   ]
  },
  {
   "cell_type": "code",
   "execution_count": 225,
   "id": "09afe1b3-f517-4d81-9e24-65d036ae0c9c",
   "metadata": {
    "scrolled": true
   },
   "outputs": [],
   "source": [
    "#from Id\tLotArea\tLotShape\tBldgType\tHouseStyle\tBsmtFinSF1\tBsmtFinType2\tBsmtFinSF2\tBsmtUnfSF\tTotalBsmtSF\t1stFlrSF\t2ndFlrSF\t\n",
    "#GrLivArea\tBsmtFullBath\tBsmtHalfBath\tFullBath\tHalfBath\tBedroomAbvGr\tKitchenAbvGr\tTotRmsAbvGrd\tGarageCars\tGarageArea\n",
    "#we drop\n",
    "\n",
    "df[['MSSubClass', 'MoSold', 'YearBuilt', 'YearRemodAdd', 'YrSold']] = df[['MSSubClass', 'MoSold', 'YearBuilt', 'YearRemodAdd', 'YrSold']].astype('object')"
   ]
  },
  {
   "cell_type": "code",
   "execution_count": 226,
   "id": "5a873a49-c1c4-4104-b1b0-04652c795d44",
   "metadata": {},
   "outputs": [
    {
     "data": {
      "text/plain": [
       "[]"
      ]
     },
     "execution_count": 226,
     "metadata": {},
     "output_type": "execute_result"
    }
   ],
   "source": [
    "threshold = 0.30  # 30%\n",
    "\n",
    "# Get missing value ratio per column\n",
    "missing_ratio = df.isna().mean()\n",
    "\n",
    "# Identify columns to drop\n",
    "missing_ratio[missing_ratio > threshold].index.tolist()"
   ]
  },
  {
   "cell_type": "markdown",
   "id": "a0528381-5d2d-4186-bd71-dd3686536f6b",
   "metadata": {},
   "source": [
    "Keeping features with more than 30% missing values can still improve your model score if those features:\n",
    "\n",
    "1. Have Strong Predictive Power\n",
    "Even if many values are missing, the non-missing values might strongly correlate with house prices. For example:\n",
    "\n",
    "A rare feature like \"Luxury Finish Quality\" might be present in only 40% of houses but highly predictive of high prices.\n",
    "\n",
    "2. Missingness Is Informative\n",
    "The fact that a value is missing can itself be predictive. For instance:\n",
    "\n",
    "\"Pool Size\" missing might imply no pool → possibly lower price.\n",
    "\n",
    "So, missing = meaningful, not just a problem.\n",
    "\n",
    "3. Effective Imputation\n",
    "If you handle missing values well (e.g., with mean/median, KNN, or even a separate \"missing\" category), the feature can still contribute positively without hurting the model.\n",
    "\n",
    "4. Regularized Models Can Handle Noise\n",
    "Algorithms like XGBoost, LightGBM, and Random Forest can handle missing values internally or tolerate noisy features due to their robustness.\n",
    "\n",
    "🔑 In Short:\n",
    "Dropping features just based on missingness may cause you to lose valuable information. If the signal outweighs the noise, even sparse features can boost prediction accuracy."
   ]
  },
  {
   "cell_type": "markdown",
   "id": "e2cb0a7a-f25e-4632-887c-be0d0652d3ae",
   "metadata": {},
   "source": [
    "## 1.4 keep means for missing quantitative + use them train"
   ]
  },
  {
   "cell_type": "code",
   "execution_count": 227,
   "id": "d97cffdc-ceb4-4bf2-9858-6dbcecf47ca6",
   "metadata": {},
   "outputs": [
    {
     "name": "stderr",
     "output_type": "stream",
     "text": [
      "C:\\Users\\berra\\AppData\\Local\\Temp\\ipykernel_4132\\3383472244.py:5: FutureWarning: Downcasting object dtype arrays on .fillna, .ffill, .bfill is deprecated and will change in a future version. Call result.infer_objects(copy=False) instead. To opt-in to the future behavior, set `pd.set_option('future.no_silent_downcasting', True)`\n",
      "  df = df.fillna(0)\n"
     ]
    }
   ],
   "source": [
    "#save numeric means for missing test\n",
    "means = df.select_dtypes(include='number').mean()\n",
    "\n",
    "#imputer numeric par moyenne dans train\n",
    "df = df.fillna(0)"
   ]
  },
  {
   "cell_type": "markdown",
   "id": "3a45595f-bcb4-471d-be8b-8cc23688b38e",
   "metadata": {},
   "source": [
    "## 1.5 create variables"
   ]
  },
  {
   "cell_type": "code",
   "execution_count": 228,
   "id": "ffe318cf-8074-46ea-aaf6-d9c4295b0a7b",
   "metadata": {
    "scrolled": true
   },
   "outputs": [],
   "source": [
    "df_dropped = df.copy()\n",
    "\n",
    "#'YearBuilt', 'YearRemodAdd, 'MoSold', 'YrSold' convert to quantitative\n",
    "# List of columns to convert\n",
    "columns_to_convert = ['YearBuilt', 'YearRemodAdd', 'MoSold', 'YrSold']\n",
    "\n",
    "# Convert each to integer safely\n",
    "for col in columns_to_convert:\n",
    "    df_dropped.loc[:, col] = df_dropped[col].astype(int)\n",
    "\n",
    "# Set reference year\n",
    "reference_year = df_dropped['YrSold'].max()\n",
    "\n",
    "# Create quantitative features safely\n",
    "df_dropped.loc[:, 'HouseAge'] = reference_year - df_dropped['YearBuilt']\n",
    "df_dropped.loc[:, 'YearsSinceRemod'] = reference_year -df_dropped['YearRemodAdd']\n",
    "df_dropped.loc[:, 'TimeIndex'] = (\n",
    "    (df_dropped['YrSold'] - df_dropped['YrSold'].min()) * 12 + df_dropped['MoSold']\n",
    ")\n",
    "\n",
    "df_dropped = df_dropped.drop([\n",
    "    'YearBuilt', 'YearRemodAdd', 'YrSold', 'MoSold'\n",
    "], axis=1) \n",
    "\n",
    "# Convert object columns to numeric, forcing errors to NaN\n",
    "cols_to_convert = ['HouseAge', 'YearsSinceRemod', 'TimeIndex']\n",
    "df_dropped[cols_to_convert] = df_dropped[cols_to_convert].apply(pd.to_numeric, errors='coerce')"
   ]
  },
  {
   "cell_type": "markdown",
   "id": "c47ddd0e-165e-44f7-bcc4-d167ae2b9131",
   "metadata": {},
   "source": [
    "## 1.6 correct skewness"
   ]
  },
  {
   "cell_type": "code",
   "execution_count": 229,
   "id": "46230a4d-5311-4fbb-8774-b1a0fdd880ed",
   "metadata": {},
   "outputs": [],
   "source": [
    "#case 1: only binary no log\n",
    "\n",
    "#Most houses don't have low-quality finished square footage.\n",
    "#Very few do, with highly varied amounts.\n",
    "cols_to_binary_only_0 = ['BsmtHalfBath', 'EnclosedPorch', 'ScreenPorch']\n",
    "\n",
    "for col in cols_to_binary_only_0:\n",
    "    df_dropped[f'Has{col}'] = (df_dropped[col] > 0).astype(int)\n",
    "    df_dropped.drop(columns=[col], inplace=True)"
   ]
  },
  {
   "cell_type": "code",
   "execution_count": 230,
   "id": "1d6d0ebe-8591-457e-8c6e-3f9c8f6de379",
   "metadata": {},
   "outputs": [],
   "source": [
    "    \n",
    "\n",
    "# = 1 or not\n",
    "\n",
    "df_dropped['HasKitchen'] = (df_dropped['KitchenAbvGr'] == 1).astype(int)\n",
    "df_dropped.drop(columns=['KitchenAbvGr'], inplace=True)\n",
    "\n",
    "\n",
    "#case 2: binary+log\n",
    "\n",
    "cols = ['MasVnrArea', 'BsmtFinSF1', 'BsmtFinSF2', 'BsmtUnfSF', '2ndFlrSF', 'WoodDeckSF', 'OpenPorchSF']  # Replace with actual column names\n",
    "\n",
    "for col in cols:\n",
    "    df_dropped[f'Has{col}'] = (df_dropped[col] > 0).astype(int)\n",
    "    df_dropped[f'{col}_log'] = np.log1p(df_dropped[col])"
   ]
  },
  {
   "cell_type": "code",
   "execution_count": 231,
   "id": "849e06c2-b089-4012-8007-49d5224a4f0e",
   "metadata": {},
   "outputs": [],
   "source": [
    "for col in cols:\n",
    "    non_numeric = df_dropped[col].apply(lambda x: not pd.api.types.is_number(x))\n",
    "    if non_numeric.any():\n",
    "        print(f\"Column '{col}' contains non-numeric values:\")\n",
    "        print(df_dropped.loc[non_numeric, col].unique())"
   ]
  },
  {
   "cell_type": "code",
   "execution_count": 232,
   "id": "94c5951c-abd2-42bb-88cf-86ec553def05",
   "metadata": {},
   "outputs": [],
   "source": [
    "#case 3: just drop \n",
    "df_dropped.drop(columns=['LowQualFinSF','3SsnPorch', 'PoolArea', 'MiscVal'], inplace=True)\n",
    "\n",
    "# case 4: log only\n",
    "\n",
    "#correlation = df_cat_quant['HouseAge'].corr(df_cat_quant['YearsSinceRemod'], method='pearson')\n",
    "#print(f\"Pearson correlation: {correlation:.3f}\")\n",
    "df_dropped.drop(columns=[ 'TimeIndex'], inplace=True)# cyclique, pas significative\n",
    "\n",
    "# List of variables to transform\n",
    "vars_to_log = ['LotFrontage', 'LotArea', 'TotalBsmtSF', 'GrLivArea',  'SalePrice', 'BsmtUnfSF', '1stFlrSF']\n",
    "\n",
    "# Create log-transformed versions with \"_log\" suffix\n",
    "for col in vars_to_log:\n",
    "    df_dropped[col + '_log'] = np.log1p(df_dropped[col])  # log1p handles zero safely\n",
    "\n",
    "# Drop the original columns\n",
    "df_dropped.drop(columns=vars_to_log, inplace=True)"
   ]
  },
  {
   "cell_type": "markdown",
   "id": "0001ee53-565f-4020-a0de-135ee36b1a7e",
   "metadata": {},
   "source": [
    "### cap"
   ]
  },
  {
   "cell_type": "markdown",
   "id": "d2cee469-811f-48b8-a036-db23b2c5fd3a",
   "metadata": {},
   "source": [
    "## 1.7 cap outliers"
   ]
  },
  {
   "cell_type": "code",
   "execution_count": 233,
   "id": "5aa6b7a7-6c96-4873-9835-58aa546a261f",
   "metadata": {
    "scrolled": true
   },
   "outputs": [],
   "source": [
    "# cap outliers\n",
    "#outliers cap\n",
    "\n",
    "num_features = [col for col in df_dropped.select_dtypes(include='number') if col != 'Id']\n",
    " \n",
    "# Store the limits for each column\n",
    "caps = {}\n",
    "\n",
    "for col in num_features:\n",
    "    q_low = df_dropped[col].quantile(0.01)\n",
    "    q_high = df_dropped[col].quantile(0.99)\n",
    "    \n",
    "    # Save the thresholds\n",
    "    caps[col] = (q_low, q_high)\n",
    "    \n",
    "    # Apply clipping\n",
    "    df_dropped[col] = df_dropped[col].clip(lower=q_low, upper=q_high)\n",
    "\n"
   ]
  },
  {
   "cell_type": "markdown",
   "id": "f97a5a39-abdc-4f05-85ac-755e027d2517",
   "metadata": {},
   "source": [
    "## 1.8 Categorical variable (missing+rare categories)"
   ]
  },
  {
   "cell_type": "code",
   "execution_count": 234,
   "id": "2d5886bf-a768-4f85-9425-eba328f64d69",
   "metadata": {},
   "outputs": [],
   "source": [
    "# One-hot encode all object or category dtype columns\n",
    "df_dropped = pd.get_dummies(df_dropped)"
   ]
  },
  {
   "cell_type": "markdown",
   "id": "bee13550-a48d-4321-a3c2-e0178692f49a",
   "metadata": {},
   "source": [
    "## 1.9 predict"
   ]
  },
  {
   "cell_type": "code",
   "execution_count": 235,
   "id": "5209951b-987b-48d5-9b3e-70bd2bd9ab97",
   "metadata": {},
   "outputs": [
    {
     "data": {
      "text/html": [
       "<style>#sk-container-id-8 {\n",
       "  /* Definition of color scheme common for light and dark mode */\n",
       "  --sklearn-color-text: black;\n",
       "  --sklearn-color-line: gray;\n",
       "  /* Definition of color scheme for unfitted estimators */\n",
       "  --sklearn-color-unfitted-level-0: #fff5e6;\n",
       "  --sklearn-color-unfitted-level-1: #f6e4d2;\n",
       "  --sklearn-color-unfitted-level-2: #ffe0b3;\n",
       "  --sklearn-color-unfitted-level-3: chocolate;\n",
       "  /* Definition of color scheme for fitted estimators */\n",
       "  --sklearn-color-fitted-level-0: #f0f8ff;\n",
       "  --sklearn-color-fitted-level-1: #d4ebff;\n",
       "  --sklearn-color-fitted-level-2: #b3dbfd;\n",
       "  --sklearn-color-fitted-level-3: cornflowerblue;\n",
       "\n",
       "  /* Specific color for light theme */\n",
       "  --sklearn-color-text-on-default-background: var(--sg-text-color, var(--theme-code-foreground, var(--jp-content-font-color1, black)));\n",
       "  --sklearn-color-background: var(--sg-background-color, var(--theme-background, var(--jp-layout-color0, white)));\n",
       "  --sklearn-color-border-box: var(--sg-text-color, var(--theme-code-foreground, var(--jp-content-font-color1, black)));\n",
       "  --sklearn-color-icon: #696969;\n",
       "\n",
       "  @media (prefers-color-scheme: dark) {\n",
       "    /* Redefinition of color scheme for dark theme */\n",
       "    --sklearn-color-text-on-default-background: var(--sg-text-color, var(--theme-code-foreground, var(--jp-content-font-color1, white)));\n",
       "    --sklearn-color-background: var(--sg-background-color, var(--theme-background, var(--jp-layout-color0, #111)));\n",
       "    --sklearn-color-border-box: var(--sg-text-color, var(--theme-code-foreground, var(--jp-content-font-color1, white)));\n",
       "    --sklearn-color-icon: #878787;\n",
       "  }\n",
       "}\n",
       "\n",
       "#sk-container-id-8 {\n",
       "  color: var(--sklearn-color-text);\n",
       "}\n",
       "\n",
       "#sk-container-id-8 pre {\n",
       "  padding: 0;\n",
       "}\n",
       "\n",
       "#sk-container-id-8 input.sk-hidden--visually {\n",
       "  border: 0;\n",
       "  clip: rect(1px 1px 1px 1px);\n",
       "  clip: rect(1px, 1px, 1px, 1px);\n",
       "  height: 1px;\n",
       "  margin: -1px;\n",
       "  overflow: hidden;\n",
       "  padding: 0;\n",
       "  position: absolute;\n",
       "  width: 1px;\n",
       "}\n",
       "\n",
       "#sk-container-id-8 div.sk-dashed-wrapped {\n",
       "  border: 1px dashed var(--sklearn-color-line);\n",
       "  margin: 0 0.4em 0.5em 0.4em;\n",
       "  box-sizing: border-box;\n",
       "  padding-bottom: 0.4em;\n",
       "  background-color: var(--sklearn-color-background);\n",
       "}\n",
       "\n",
       "#sk-container-id-8 div.sk-container {\n",
       "  /* jupyter's `normalize.less` sets `[hidden] { display: none; }`\n",
       "     but bootstrap.min.css set `[hidden] { display: none !important; }`\n",
       "     so we also need the `!important` here to be able to override the\n",
       "     default hidden behavior on the sphinx rendered scikit-learn.org.\n",
       "     See: https://github.com/scikit-learn/scikit-learn/issues/21755 */\n",
       "  display: inline-block !important;\n",
       "  position: relative;\n",
       "}\n",
       "\n",
       "#sk-container-id-8 div.sk-text-repr-fallback {\n",
       "  display: none;\n",
       "}\n",
       "\n",
       "div.sk-parallel-item,\n",
       "div.sk-serial,\n",
       "div.sk-item {\n",
       "  /* draw centered vertical line to link estimators */\n",
       "  background-image: linear-gradient(var(--sklearn-color-text-on-default-background), var(--sklearn-color-text-on-default-background));\n",
       "  background-size: 2px 100%;\n",
       "  background-repeat: no-repeat;\n",
       "  background-position: center center;\n",
       "}\n",
       "\n",
       "/* Parallel-specific style estimator block */\n",
       "\n",
       "#sk-container-id-8 div.sk-parallel-item::after {\n",
       "  content: \"\";\n",
       "  width: 100%;\n",
       "  border-bottom: 2px solid var(--sklearn-color-text-on-default-background);\n",
       "  flex-grow: 1;\n",
       "}\n",
       "\n",
       "#sk-container-id-8 div.sk-parallel {\n",
       "  display: flex;\n",
       "  align-items: stretch;\n",
       "  justify-content: center;\n",
       "  background-color: var(--sklearn-color-background);\n",
       "  position: relative;\n",
       "}\n",
       "\n",
       "#sk-container-id-8 div.sk-parallel-item {\n",
       "  display: flex;\n",
       "  flex-direction: column;\n",
       "}\n",
       "\n",
       "#sk-container-id-8 div.sk-parallel-item:first-child::after {\n",
       "  align-self: flex-end;\n",
       "  width: 50%;\n",
       "}\n",
       "\n",
       "#sk-container-id-8 div.sk-parallel-item:last-child::after {\n",
       "  align-self: flex-start;\n",
       "  width: 50%;\n",
       "}\n",
       "\n",
       "#sk-container-id-8 div.sk-parallel-item:only-child::after {\n",
       "  width: 0;\n",
       "}\n",
       "\n",
       "/* Serial-specific style estimator block */\n",
       "\n",
       "#sk-container-id-8 div.sk-serial {\n",
       "  display: flex;\n",
       "  flex-direction: column;\n",
       "  align-items: center;\n",
       "  background-color: var(--sklearn-color-background);\n",
       "  padding-right: 1em;\n",
       "  padding-left: 1em;\n",
       "}\n",
       "\n",
       "\n",
       "/* Toggleable style: style used for estimator/Pipeline/ColumnTransformer box that is\n",
       "clickable and can be expanded/collapsed.\n",
       "- Pipeline and ColumnTransformer use this feature and define the default style\n",
       "- Estimators will overwrite some part of the style using the `sk-estimator` class\n",
       "*/\n",
       "\n",
       "/* Pipeline and ColumnTransformer style (default) */\n",
       "\n",
       "#sk-container-id-8 div.sk-toggleable {\n",
       "  /* Default theme specific background. It is overwritten whether we have a\n",
       "  specific estimator or a Pipeline/ColumnTransformer */\n",
       "  background-color: var(--sklearn-color-background);\n",
       "}\n",
       "\n",
       "/* Toggleable label */\n",
       "#sk-container-id-8 label.sk-toggleable__label {\n",
       "  cursor: pointer;\n",
       "  display: block;\n",
       "  width: 100%;\n",
       "  margin-bottom: 0;\n",
       "  padding: 0.5em;\n",
       "  box-sizing: border-box;\n",
       "  text-align: center;\n",
       "}\n",
       "\n",
       "#sk-container-id-8 label.sk-toggleable__label-arrow:before {\n",
       "  /* Arrow on the left of the label */\n",
       "  content: \"▸\";\n",
       "  float: left;\n",
       "  margin-right: 0.25em;\n",
       "  color: var(--sklearn-color-icon);\n",
       "}\n",
       "\n",
       "#sk-container-id-8 label.sk-toggleable__label-arrow:hover:before {\n",
       "  color: var(--sklearn-color-text);\n",
       "}\n",
       "\n",
       "/* Toggleable content - dropdown */\n",
       "\n",
       "#sk-container-id-8 div.sk-toggleable__content {\n",
       "  max-height: 0;\n",
       "  max-width: 0;\n",
       "  overflow: hidden;\n",
       "  text-align: left;\n",
       "  /* unfitted */\n",
       "  background-color: var(--sklearn-color-unfitted-level-0);\n",
       "}\n",
       "\n",
       "#sk-container-id-8 div.sk-toggleable__content.fitted {\n",
       "  /* fitted */\n",
       "  background-color: var(--sklearn-color-fitted-level-0);\n",
       "}\n",
       "\n",
       "#sk-container-id-8 div.sk-toggleable__content pre {\n",
       "  margin: 0.2em;\n",
       "  border-radius: 0.25em;\n",
       "  color: var(--sklearn-color-text);\n",
       "  /* unfitted */\n",
       "  background-color: var(--sklearn-color-unfitted-level-0);\n",
       "}\n",
       "\n",
       "#sk-container-id-8 div.sk-toggleable__content.fitted pre {\n",
       "  /* unfitted */\n",
       "  background-color: var(--sklearn-color-fitted-level-0);\n",
       "}\n",
       "\n",
       "#sk-container-id-8 input.sk-toggleable__control:checked~div.sk-toggleable__content {\n",
       "  /* Expand drop-down */\n",
       "  max-height: 200px;\n",
       "  max-width: 100%;\n",
       "  overflow: auto;\n",
       "}\n",
       "\n",
       "#sk-container-id-8 input.sk-toggleable__control:checked~label.sk-toggleable__label-arrow:before {\n",
       "  content: \"▾\";\n",
       "}\n",
       "\n",
       "/* Pipeline/ColumnTransformer-specific style */\n",
       "\n",
       "#sk-container-id-8 div.sk-label input.sk-toggleable__control:checked~label.sk-toggleable__label {\n",
       "  color: var(--sklearn-color-text);\n",
       "  background-color: var(--sklearn-color-unfitted-level-2);\n",
       "}\n",
       "\n",
       "#sk-container-id-8 div.sk-label.fitted input.sk-toggleable__control:checked~label.sk-toggleable__label {\n",
       "  background-color: var(--sklearn-color-fitted-level-2);\n",
       "}\n",
       "\n",
       "/* Estimator-specific style */\n",
       "\n",
       "/* Colorize estimator box */\n",
       "#sk-container-id-8 div.sk-estimator input.sk-toggleable__control:checked~label.sk-toggleable__label {\n",
       "  /* unfitted */\n",
       "  background-color: var(--sklearn-color-unfitted-level-2);\n",
       "}\n",
       "\n",
       "#sk-container-id-8 div.sk-estimator.fitted input.sk-toggleable__control:checked~label.sk-toggleable__label {\n",
       "  /* fitted */\n",
       "  background-color: var(--sklearn-color-fitted-level-2);\n",
       "}\n",
       "\n",
       "#sk-container-id-8 div.sk-label label.sk-toggleable__label,\n",
       "#sk-container-id-8 div.sk-label label {\n",
       "  /* The background is the default theme color */\n",
       "  color: var(--sklearn-color-text-on-default-background);\n",
       "}\n",
       "\n",
       "/* On hover, darken the color of the background */\n",
       "#sk-container-id-8 div.sk-label:hover label.sk-toggleable__label {\n",
       "  color: var(--sklearn-color-text);\n",
       "  background-color: var(--sklearn-color-unfitted-level-2);\n",
       "}\n",
       "\n",
       "/* Label box, darken color on hover, fitted */\n",
       "#sk-container-id-8 div.sk-label.fitted:hover label.sk-toggleable__label.fitted {\n",
       "  color: var(--sklearn-color-text);\n",
       "  background-color: var(--sklearn-color-fitted-level-2);\n",
       "}\n",
       "\n",
       "/* Estimator label */\n",
       "\n",
       "#sk-container-id-8 div.sk-label label {\n",
       "  font-family: monospace;\n",
       "  font-weight: bold;\n",
       "  display: inline-block;\n",
       "  line-height: 1.2em;\n",
       "}\n",
       "\n",
       "#sk-container-id-8 div.sk-label-container {\n",
       "  text-align: center;\n",
       "}\n",
       "\n",
       "/* Estimator-specific */\n",
       "#sk-container-id-8 div.sk-estimator {\n",
       "  font-family: monospace;\n",
       "  border: 1px dotted var(--sklearn-color-border-box);\n",
       "  border-radius: 0.25em;\n",
       "  box-sizing: border-box;\n",
       "  margin-bottom: 0.5em;\n",
       "  /* unfitted */\n",
       "  background-color: var(--sklearn-color-unfitted-level-0);\n",
       "}\n",
       "\n",
       "#sk-container-id-8 div.sk-estimator.fitted {\n",
       "  /* fitted */\n",
       "  background-color: var(--sklearn-color-fitted-level-0);\n",
       "}\n",
       "\n",
       "/* on hover */\n",
       "#sk-container-id-8 div.sk-estimator:hover {\n",
       "  /* unfitted */\n",
       "  background-color: var(--sklearn-color-unfitted-level-2);\n",
       "}\n",
       "\n",
       "#sk-container-id-8 div.sk-estimator.fitted:hover {\n",
       "  /* fitted */\n",
       "  background-color: var(--sklearn-color-fitted-level-2);\n",
       "}\n",
       "\n",
       "/* Specification for estimator info (e.g. \"i\" and \"?\") */\n",
       "\n",
       "/* Common style for \"i\" and \"?\" */\n",
       "\n",
       ".sk-estimator-doc-link,\n",
       "a:link.sk-estimator-doc-link,\n",
       "a:visited.sk-estimator-doc-link {\n",
       "  float: right;\n",
       "  font-size: smaller;\n",
       "  line-height: 1em;\n",
       "  font-family: monospace;\n",
       "  background-color: var(--sklearn-color-background);\n",
       "  border-radius: 1em;\n",
       "  height: 1em;\n",
       "  width: 1em;\n",
       "  text-decoration: none !important;\n",
       "  margin-left: 1ex;\n",
       "  /* unfitted */\n",
       "  border: var(--sklearn-color-unfitted-level-1) 1pt solid;\n",
       "  color: var(--sklearn-color-unfitted-level-1);\n",
       "}\n",
       "\n",
       ".sk-estimator-doc-link.fitted,\n",
       "a:link.sk-estimator-doc-link.fitted,\n",
       "a:visited.sk-estimator-doc-link.fitted {\n",
       "  /* fitted */\n",
       "  border: var(--sklearn-color-fitted-level-1) 1pt solid;\n",
       "  color: var(--sklearn-color-fitted-level-1);\n",
       "}\n",
       "\n",
       "/* On hover */\n",
       "div.sk-estimator:hover .sk-estimator-doc-link:hover,\n",
       ".sk-estimator-doc-link:hover,\n",
       "div.sk-label-container:hover .sk-estimator-doc-link:hover,\n",
       ".sk-estimator-doc-link:hover {\n",
       "  /* unfitted */\n",
       "  background-color: var(--sklearn-color-unfitted-level-3);\n",
       "  color: var(--sklearn-color-background);\n",
       "  text-decoration: none;\n",
       "}\n",
       "\n",
       "div.sk-estimator.fitted:hover .sk-estimator-doc-link.fitted:hover,\n",
       ".sk-estimator-doc-link.fitted:hover,\n",
       "div.sk-label-container:hover .sk-estimator-doc-link.fitted:hover,\n",
       ".sk-estimator-doc-link.fitted:hover {\n",
       "  /* fitted */\n",
       "  background-color: var(--sklearn-color-fitted-level-3);\n",
       "  color: var(--sklearn-color-background);\n",
       "  text-decoration: none;\n",
       "}\n",
       "\n",
       "/* Span, style for the box shown on hovering the info icon */\n",
       ".sk-estimator-doc-link span {\n",
       "  display: none;\n",
       "  z-index: 9999;\n",
       "  position: relative;\n",
       "  font-weight: normal;\n",
       "  right: .2ex;\n",
       "  padding: .5ex;\n",
       "  margin: .5ex;\n",
       "  width: min-content;\n",
       "  min-width: 20ex;\n",
       "  max-width: 50ex;\n",
       "  color: var(--sklearn-color-text);\n",
       "  box-shadow: 2pt 2pt 4pt #999;\n",
       "  /* unfitted */\n",
       "  background: var(--sklearn-color-unfitted-level-0);\n",
       "  border: .5pt solid var(--sklearn-color-unfitted-level-3);\n",
       "}\n",
       "\n",
       ".sk-estimator-doc-link.fitted span {\n",
       "  /* fitted */\n",
       "  background: var(--sklearn-color-fitted-level-0);\n",
       "  border: var(--sklearn-color-fitted-level-3);\n",
       "}\n",
       "\n",
       ".sk-estimator-doc-link:hover span {\n",
       "  display: block;\n",
       "}\n",
       "\n",
       "/* \"?\"-specific style due to the `<a>` HTML tag */\n",
       "\n",
       "#sk-container-id-8 a.estimator_doc_link {\n",
       "  float: right;\n",
       "  font-size: 1rem;\n",
       "  line-height: 1em;\n",
       "  font-family: monospace;\n",
       "  background-color: var(--sklearn-color-background);\n",
       "  border-radius: 1rem;\n",
       "  height: 1rem;\n",
       "  width: 1rem;\n",
       "  text-decoration: none;\n",
       "  /* unfitted */\n",
       "  color: var(--sklearn-color-unfitted-level-1);\n",
       "  border: var(--sklearn-color-unfitted-level-1) 1pt solid;\n",
       "}\n",
       "\n",
       "#sk-container-id-8 a.estimator_doc_link.fitted {\n",
       "  /* fitted */\n",
       "  border: var(--sklearn-color-fitted-level-1) 1pt solid;\n",
       "  color: var(--sklearn-color-fitted-level-1);\n",
       "}\n",
       "\n",
       "/* On hover */\n",
       "#sk-container-id-8 a.estimator_doc_link:hover {\n",
       "  /* unfitted */\n",
       "  background-color: var(--sklearn-color-unfitted-level-3);\n",
       "  color: var(--sklearn-color-background);\n",
       "  text-decoration: none;\n",
       "}\n",
       "\n",
       "#sk-container-id-8 a.estimator_doc_link.fitted:hover {\n",
       "  /* fitted */\n",
       "  background-color: var(--sklearn-color-fitted-level-3);\n",
       "}\n",
       "</style><div id=\"sk-container-id-8\" class=\"sk-top-container\"><div class=\"sk-text-repr-fallback\"><pre>GradientBoostingRegressor(learning_rate=0.05, n_estimators=1100, random_state=1,\n",
       "                          subsample=0.35)</pre><b>In a Jupyter environment, please rerun this cell to show the HTML representation or trust the notebook. <br />On GitHub, the HTML representation is unable to render, please try loading this page with nbviewer.org.</b></div><div class=\"sk-container\" hidden><div class=\"sk-item\"><div class=\"sk-estimator fitted sk-toggleable\"><input class=\"sk-toggleable__control sk-hidden--visually\" id=\"sk-estimator-id-8\" type=\"checkbox\" checked><label for=\"sk-estimator-id-8\" class=\"sk-toggleable__label fitted sk-toggleable__label-arrow fitted\">&nbsp;&nbsp;GradientBoostingRegressor<a class=\"sk-estimator-doc-link fitted\" rel=\"noreferrer\" target=\"_blank\" href=\"https://scikit-learn.org/1.5/modules/generated/sklearn.ensemble.GradientBoostingRegressor.html\">?<span>Documentation for GradientBoostingRegressor</span></a><span class=\"sk-estimator-doc-link fitted\">i<span>Fitted</span></span></label><div class=\"sk-toggleable__content fitted\"><pre>GradientBoostingRegressor(learning_rate=0.05, n_estimators=1100, random_state=1,\n",
       "                          subsample=0.35)</pre></div> </div></div></div></div>"
      ],
      "text/plain": [
       "GradientBoostingRegressor(learning_rate=0.05, n_estimators=1100, random_state=1,\n",
       "                          subsample=0.35)"
      ]
     },
     "execution_count": 235,
     "metadata": {},
     "output_type": "execute_result"
    }
   ],
   "source": [
    "from sklearn.model_selection import cross_val_score, KFold\n",
    "from sklearn.linear_model import LinearRegression\n",
    "from sklearn.metrics import mean_squared_error\n",
    "from sklearn.ensemble import GradientBoostingRegressor\n",
    "\n",
    "# Step 1: Separate features and target\n",
    "X_train = df_dropped.drop(columns=['Id', 'SalePrice_log'])  # Replace 'Price' with your actual target if named differently\n",
    "y = df_dropped['SalePrice_log']\n",
    "\n",
    "model = GradientBoostingRegressor(n_estimators=1100, loss='squared_error', subsample = 0.35, learning_rate = 0.05,random_state=1)\n",
    "\n",
    "model.fit(X_train, y)\n"
   ]
  },
  {
   "cell_type": "markdown",
   "id": "cedd38de-62fa-489b-b52b-fbf7c8850e03",
   "metadata": {},
   "source": [
    "# Test Quantitative columns (outliers capping...)"
   ]
  },
  {
   "cell_type": "code",
   "execution_count": 236,
   "id": "4c81b62d-971a-4219-96bb-39b3c896c5a2",
   "metadata": {},
   "outputs": [],
   "source": [
    "# test\n",
    "\n",
    "#from Id\tLotArea\tLotShape\tBldgType\tHouseStyle\tBsmtFinSF1\tBsmtFinType2\tBsmtFinSF2\tBsmtUnfSF\tTotalBsmtSF\t1stFlrSF\t2ndFlrSF\t\n",
    "#GrLivArea\tBsmtFullBath\tBsmtHalfBath\tFullBath\tHalfBath\tBedroomAbvGr\tKitchenAbvGr\tTotRmsAbvGrd\tGarageCars\tGarageArea\n",
    "#we drop\n",
    "d_test = pd.read_csv('test.csv') "
   ]
  },
  {
   "cell_type": "code",
   "execution_count": 237,
   "id": "5cc6f933-6aa8-4774-a302-5e73501bf48d",
   "metadata": {},
   "outputs": [
    {
     "name": "stdout",
     "output_type": "stream",
     "text": [
      "Index(['LotFrontage', 'MasVnrArea', 'BsmtFinSF1', 'BsmtFinSF2', 'BsmtUnfSF',\n",
      "       'TotalBsmtSF', 'BsmtFullBath', 'BsmtHalfBath', 'GarageYrBlt',\n",
      "       'GarageCars', 'GarageArea'],\n",
      "      dtype='object')\n"
     ]
    }
   ],
   "source": [
    "# Select only numerical columns with NaN values\n",
    "numerical_missing = d_test.select_dtypes(include='number').columns[d_test.select_dtypes(include='number').isnull().any()]\n",
    "\n",
    "print(numerical_missing)"
   ]
  },
  {
   "cell_type": "markdown",
   "id": "b2f9f294-5c95-4171-bd8c-95e3f79bd9c6",
   "metadata": {},
   "source": [
    "## 2.1 convert types"
   ]
  },
  {
   "cell_type": "code",
   "execution_count": 238,
   "id": "65f3f43e-4d44-49a0-8567-624feeb61188",
   "metadata": {},
   "outputs": [],
   "source": [
    "d_test[['MSSubClass', 'MoSold', 'YearBuilt', 'YearRemodAdd', 'YrSold']] = d_test[['MSSubClass', 'MoSold', 'YearBuilt', 'YearRemodAdd', 'YrSold']].astype('object')"
   ]
  },
  {
   "cell_type": "markdown",
   "id": "67a63dcf-3ae1-4d4f-9fb7-95876ca30205",
   "metadata": {},
   "source": [
    "## 2.2 drop most missing"
   ]
  },
  {
   "cell_type": "code",
   "execution_count": 239,
   "id": "346be79e-7629-4683-8fa6-36b80921ee74",
   "metadata": {},
   "outputs": [
    {
     "name": "stderr",
     "output_type": "stream",
     "text": [
      "C:\\Users\\berra\\AppData\\Local\\Temp\\ipykernel_4132\\2363930934.py:5: FutureWarning: Downcasting object dtype arrays on .fillna, .ffill, .bfill is deprecated and will change in a future version. Call result.infer_objects(copy=False) instead. To opt-in to the future behavior, set `pd.set_option('future.no_silent_downcasting', True)`\n",
      "  d_test[cat_cols] = d_test[cat_cols].fillna(\"Missing\")\n"
     ]
    }
   ],
   "source": [
    "# Select only object or category columns\n",
    "cat_cols = d_test.select_dtypes(include=[\"object\", \"category\"]).columns\n",
    "\n",
    "# Fill NaN values in only those columns\n",
    "d_test[cat_cols] = d_test[cat_cols].fillna(\"Missing\")"
   ]
  },
  {
   "cell_type": "markdown",
   "id": "8d134688-30cd-4767-904e-a05c1a12adab",
   "metadata": {},
   "source": [
    "## 2.4 fill na with means of train"
   ]
  },
  {
   "cell_type": "code",
   "execution_count": 240,
   "id": "27a706c3-037b-4cb4-ae00-f16705f467c3",
   "metadata": {},
   "outputs": [],
   "source": [
    "# Imputation dans le test set (numeric)\n",
    "d_test.fillna(0, inplace=True)"
   ]
  },
  {
   "cell_type": "markdown",
   "id": "56454c0e-956e-4a67-9d80-0171982a25f3",
   "metadata": {},
   "source": [
    "## 2.5 create variables"
   ]
  },
  {
   "cell_type": "code",
   "execution_count": 241,
   "id": "a994ebf1-7068-4a67-8998-c179e4b36d0c",
   "metadata": {},
   "outputs": [],
   "source": [
    "#'YearBuilt', 'YearRemodAdd, 'MoSold', 'YrSold' convert to quantitative\n",
    "# List of columns to convert\n",
    "columns_to_convert = ['YearBuilt', 'YearRemodAdd', 'MoSold', 'YrSold']\n",
    "\n",
    "# Convert each to integer safely\n",
    "for col in columns_to_convert:\n",
    "    d_test.loc[:, col] = d_test[col].astype(int)\n",
    "\n",
    "# Set reference year\n",
    "reference_year = d_test['YrSold'].max()\n",
    "\n",
    "# Create quantitative features safely\n",
    "d_test.loc[:, 'HouseAge'] = reference_year - d_test['YearBuilt']\n",
    "d_test.loc[:, 'YearsSinceRemod'] = reference_year - d_test['YearRemodAdd']\n",
    "\n",
    "\n",
    "d_test = d_test.drop([\n",
    "    'YearBuilt', 'YearRemodAdd', 'YrSold', 'MoSold'\n",
    "], axis=1) \n",
    "\n",
    "# Convert object columns to numeric, forcing errors to NaN\n",
    "cols_to_convert = ['HouseAge', 'YearsSinceRemod']\n",
    "d_test[cols_to_convert] = d_test[cols_to_convert].apply(pd.to_numeric, errors='coerce')"
   ]
  },
  {
   "cell_type": "markdown",
   "id": "83b4fce9-bc48-4575-b79f-172056350c06",
   "metadata": {},
   "source": [
    "## 2.6 correct skewness"
   ]
  },
  {
   "cell_type": "code",
   "execution_count": 242,
   "id": "9e3b3acf-f82b-4d54-9989-abebcb51c54f",
   "metadata": {},
   "outputs": [],
   "source": [
    "#case 1: only binary no log\n",
    "\n",
    "#Most houses don't have low-quality finished square footage.\n",
    "#Very few do, with highly varied amounts.\n",
    "cols_to_binary_only_0 = ['BsmtHalfBath', 'EnclosedPorch', 'ScreenPorch']\n",
    "\n",
    "for col in cols_to_binary_only_0:\n",
    "    d_test[f'Has{col}'] = (d_test[col] > 0).astype(int)\n",
    "    d_test.drop(columns=[col], inplace=True)\n",
    "\n",
    "# = 1 or not\n",
    "\n",
    "d_test['HasKitchen'] = (d_test['KitchenAbvGr'] == 1).astype(int)\n",
    "d_test.drop(columns=['KitchenAbvGr'], inplace=True)\n",
    "\n",
    "\n",
    "#case 2: binary+log\n",
    "\n",
    "cols = ['MasVnrArea', 'BsmtFinSF1', 'BsmtFinSF2', 'BsmtUnfSF', '2ndFlrSF', 'WoodDeckSF', 'OpenPorchSF']  # Replace with actual column names\n",
    "\n",
    "for col in cols:\n",
    "    d_test[f'Has{col}'] = (d_test[col] > 0).astype(int)\n",
    "    d_test[f'{col}_log'] = np.log1p(d_test[col])\n",
    "\n",
    "#case 3: just drop \n",
    "d_test.drop(columns=['LowQualFinSF','3SsnPorch', 'PoolArea', 'MiscVal'], inplace=True)\n",
    "\n",
    "# case 4: log only\n",
    "\n",
    "#correlation = df_cat_quant['HouseAge'].corr(df_cat_quant['YearsSinceRemod'], method='pearson')\n",
    "#print(f\"Pearson correlation: {correlation:.3f}\")\n",
    "\n",
    "# List of variables to transform\n",
    "vars_to_log = ['LotFrontage', 'LotArea', 'TotalBsmtSF', 'GrLivArea',  'BsmtUnfSF', '1stFlrSF']\n",
    "\n",
    "\n",
    "# Create log-transformed versions with \"_log\" suffix\n",
    "for col in vars_to_log:\n",
    "    d_test[col + '_log'] = np.log1p(d_test[col])  # log1p handles zero safely\n",
    "\n",
    "# Drop the original columns\n",
    "d_test.drop(columns=vars_to_log, inplace=True)"
   ]
  },
  {
   "cell_type": "markdown",
   "id": "d75c23de-00b2-40ec-8e87-bdc2a7afae32",
   "metadata": {},
   "source": [
    "## 2.7 cap outliers"
   ]
  },
  {
   "cell_type": "code",
   "execution_count": 243,
   "id": "97e97aab-6472-4839-bf48-0be7899ee412",
   "metadata": {},
   "outputs": [],
   "source": [
    "num_features = [col for col in num_features if col != \"SalePrice_log\"]\n",
    "\n",
    "for col in num_features:\n",
    "    q_low, q_high = caps[col]\n",
    "    d_test[col] = d_test[col].clip(lower=q_low, upper=q_high)\n"
   ]
  },
  {
   "cell_type": "markdown",
   "id": "ba999a51-26dd-43c9-b6f7-35f5c4b968a7",
   "metadata": {},
   "source": [
    "## 2.8 Categorical variable (missing+rare categories)"
   ]
  },
  {
   "cell_type": "code",
   "execution_count": 244,
   "id": "57a28aac-9bce-4a5f-93eb-f22b550461c6",
   "metadata": {},
   "outputs": [],
   "source": [
    "# One-hot encode test set\n",
    "X_test = pd.get_dummies(d_test)\n",
    "X_test = d_test.drop(columns=['Id'], errors='ignore') \n",
    "# Align with training columns (very important!)\n",
    "X_test_aligned = X_test.reindex(columns=X_train.columns, fill_value=0)\n",
    "\n",
    "\n",
    "y_pred_log = model.predict(X_test_aligned)\n",
    "y_pred = np.expm1(y_pred_log)  # reverse np.log1p()\n",
    "d_test['SalePrice'] = y_pred\n",
    "d_test[['Id', 'SalePrice']].to_csv(\"predictions_g.csv\", index=False)"
   ]
  },
  {
   "cell_type": "code",
   "execution_count": 245,
   "id": "e2ab8e10-a6e0-4202-becd-522dd59f8d3d",
   "metadata": {},
   "outputs": [
    {
     "name": "stdout",
     "output_type": "stream",
     "text": [
      "Index(['MSSubClass', 'OverallQual', 'OverallCond', 'MasVnrArea', 'BsmtFinSF1',\n",
      "       'BsmtFinSF2', '2ndFlrSF', 'BsmtFullBath', 'FullBath', 'HalfBath',\n",
      "       ...\n",
      "       'SaleType_ConLw', 'SaleType_New', 'SaleType_Oth', 'SaleType_WD',\n",
      "       'SaleCondition_Abnorml', 'SaleCondition_AdjLand',\n",
      "       'SaleCondition_Alloca', 'SaleCondition_Family', 'SaleCondition_Normal',\n",
      "       'SaleCondition_Partial'],\n",
      "      dtype='object', length=310)\n"
     ]
    }
   ],
   "source": [
    "\n",
    "pd.set_option('display.max_columns', None)\n",
    "print(X_test_aligned.columns)"
   ]
  },
  {
   "cell_type": "code",
   "execution_count": 246,
   "id": "e8f0b987-67a3-4208-b79e-c30bdf0aaf2a",
   "metadata": {},
   "outputs": [
    {
     "name": "stdout",
     "output_type": "stream",
     "text": [
      "['Id', 'MSSubClass', 'OverallQual', 'OverallCond', 'MasVnrArea', 'BsmtFinSF1', 'BsmtFinSF2', '2ndFlrSF', 'BsmtFullBath', 'FullBath', 'HalfBath', 'BedroomAbvGr', 'TotRmsAbvGrd', 'Fireplaces', 'GarageYrBlt', 'GarageCars', 'GarageArea', 'WoodDeckSF', 'OpenPorchSF', 'HouseAge', 'YearsSinceRemod', 'HasBsmtHalfBath', 'HasEnclosedPorch', 'HasScreenPorch', 'HasKitchen', 'HasMasVnrArea', 'MasVnrArea_log', 'HasBsmtFinSF1', 'BsmtFinSF1_log', 'HasBsmtFinSF2', 'BsmtFinSF2_log', 'HasBsmtUnfSF', 'BsmtUnfSF_log', 'Has2ndFlrSF', '2ndFlrSF_log', 'HasWoodDeckSF', 'WoodDeckSF_log', 'HasOpenPorchSF', 'OpenPorchSF_log', 'LotFrontage_log', 'LotArea_log', 'TotalBsmtSF_log', 'GrLivArea_log', 'SalePrice_log', '1stFlrSF_log', 'MSZoning_C (all)', 'MSZoning_FV', 'MSZoning_RH', 'MSZoning_RL', 'MSZoning_RM', 'Street_Grvl', 'Street_Pave', 'Alley_Grvl', 'Alley_Missing', 'Alley_Pave', 'LotShape_IR1', 'LotShape_IR2', 'LotShape_IR3', 'LotShape_Reg', 'LandContour_Bnk', 'LandContour_HLS', 'LandContour_Low', 'LandContour_Lvl', 'Utilities_AllPub', 'Utilities_NoSeWa', 'LotConfig_Corner', 'LotConfig_CulDSac', 'LotConfig_FR2', 'LotConfig_FR3', 'LotConfig_Inside', 'LandSlope_Gtl', 'LandSlope_Mod', 'LandSlope_Sev', 'Neighborhood_Blmngtn', 'Neighborhood_Blueste', 'Neighborhood_BrDale', 'Neighborhood_BrkSide', 'Neighborhood_ClearCr', 'Neighborhood_CollgCr', 'Neighborhood_Crawfor', 'Neighborhood_Edwards', 'Neighborhood_Gilbert', 'Neighborhood_IDOTRR', 'Neighborhood_MeadowV', 'Neighborhood_Mitchel', 'Neighborhood_NAmes', 'Neighborhood_NPkVill', 'Neighborhood_NWAmes', 'Neighborhood_NoRidge', 'Neighborhood_NridgHt', 'Neighborhood_OldTown', 'Neighborhood_SWISU', 'Neighborhood_Sawyer', 'Neighborhood_SawyerW', 'Neighborhood_Somerst', 'Neighborhood_StoneBr', 'Neighborhood_Timber', 'Neighborhood_Veenker', 'Condition1_Artery', 'Condition1_Feedr', 'Condition1_Norm', 'Condition1_PosA', 'Condition1_PosN', 'Condition1_RRAe', 'Condition1_RRAn', 'Condition1_RRNe', 'Condition1_RRNn', 'Condition2_Artery', 'Condition2_Feedr', 'Condition2_Norm', 'Condition2_PosA', 'Condition2_PosN', 'Condition2_RRAe', 'Condition2_RRAn', 'Condition2_RRNn', 'BldgType_1Fam', 'BldgType_2fmCon', 'BldgType_Duplex', 'BldgType_Twnhs', 'BldgType_TwnhsE', 'HouseStyle_1.5Fin', 'HouseStyle_1.5Unf', 'HouseStyle_1Story', 'HouseStyle_2.5Fin', 'HouseStyle_2.5Unf', 'HouseStyle_2Story', 'HouseStyle_SFoyer', 'HouseStyle_SLvl', 'RoofStyle_Flat', 'RoofStyle_Gable', 'RoofStyle_Gambrel', 'RoofStyle_Hip', 'RoofStyle_Mansard', 'RoofStyle_Shed', 'RoofMatl_ClyTile', 'RoofMatl_CompShg', 'RoofMatl_Membran', 'RoofMatl_Metal', 'RoofMatl_Roll', 'RoofMatl_Tar&Grv', 'RoofMatl_WdShake', 'RoofMatl_WdShngl', 'Exterior1st_AsbShng', 'Exterior1st_AsphShn', 'Exterior1st_BrkComm', 'Exterior1st_BrkFace', 'Exterior1st_CBlock', 'Exterior1st_CemntBd', 'Exterior1st_HdBoard', 'Exterior1st_ImStucc', 'Exterior1st_MetalSd', 'Exterior1st_Plywood', 'Exterior1st_Stone', 'Exterior1st_Stucco', 'Exterior1st_VinylSd', 'Exterior1st_Wd Sdng', 'Exterior1st_WdShing', 'Exterior2nd_AsbShng', 'Exterior2nd_AsphShn', 'Exterior2nd_Brk Cmn', 'Exterior2nd_BrkFace', 'Exterior2nd_CBlock', 'Exterior2nd_CmentBd', 'Exterior2nd_HdBoard', 'Exterior2nd_ImStucc', 'Exterior2nd_MetalSd', 'Exterior2nd_Other', 'Exterior2nd_Plywood', 'Exterior2nd_Stone', 'Exterior2nd_Stucco', 'Exterior2nd_VinylSd', 'Exterior2nd_Wd Sdng', 'Exterior2nd_Wd Shng', 'MasVnrType_BrkCmn', 'MasVnrType_BrkFace', 'MasVnrType_Missing', 'MasVnrType_Stone', 'ExterQual_Ex', 'ExterQual_Fa', 'ExterQual_Gd', 'ExterQual_TA', 'ExterCond_Ex', 'ExterCond_Fa', 'ExterCond_Gd', 'ExterCond_Po', 'ExterCond_TA', 'Foundation_BrkTil', 'Foundation_CBlock', 'Foundation_PConc', 'Foundation_Slab', 'Foundation_Stone', 'Foundation_Wood', 'BsmtQual_Ex', 'BsmtQual_Fa', 'BsmtQual_Gd', 'BsmtQual_Missing', 'BsmtQual_TA', 'BsmtCond_Fa', 'BsmtCond_Gd', 'BsmtCond_Missing', 'BsmtCond_Po', 'BsmtCond_TA', 'BsmtExposure_Av', 'BsmtExposure_Gd', 'BsmtExposure_Missing', 'BsmtExposure_Mn', 'BsmtExposure_No', 'BsmtFinType1_ALQ', 'BsmtFinType1_BLQ', 'BsmtFinType1_GLQ', 'BsmtFinType1_LwQ', 'BsmtFinType1_Missing', 'BsmtFinType1_Rec', 'BsmtFinType1_Unf', 'BsmtFinType2_ALQ', 'BsmtFinType2_BLQ', 'BsmtFinType2_GLQ', 'BsmtFinType2_LwQ', 'BsmtFinType2_Missing', 'BsmtFinType2_Rec', 'BsmtFinType2_Unf', 'Heating_Floor', 'Heating_GasA', 'Heating_GasW', 'Heating_Grav', 'Heating_OthW', 'Heating_Wall', 'HeatingQC_Ex', 'HeatingQC_Fa', 'HeatingQC_Gd', 'HeatingQC_Po', 'HeatingQC_TA', 'CentralAir_N', 'CentralAir_Y', 'Electrical_FuseA', 'Electrical_FuseF', 'Electrical_FuseP', 'Electrical_Missing', 'Electrical_Mix', 'Electrical_SBrkr', 'KitchenQual_Ex', 'KitchenQual_Fa', 'KitchenQual_Gd', 'KitchenQual_TA', 'Functional_Maj1', 'Functional_Maj2', 'Functional_Min1', 'Functional_Min2', 'Functional_Mod', 'Functional_Sev', 'Functional_Typ', 'FireplaceQu_Ex', 'FireplaceQu_Fa', 'FireplaceQu_Gd', 'FireplaceQu_Missing', 'FireplaceQu_Po', 'FireplaceQu_TA', 'GarageType_2Types', 'GarageType_Attchd', 'GarageType_Basment', 'GarageType_BuiltIn', 'GarageType_CarPort', 'GarageType_Detchd', 'GarageType_Missing', 'GarageFinish_Fin', 'GarageFinish_Missing', 'GarageFinish_RFn', 'GarageFinish_Unf', 'GarageQual_Ex', 'GarageQual_Fa', 'GarageQual_Gd', 'GarageQual_Missing', 'GarageQual_Po', 'GarageQual_TA', 'GarageCond_Ex', 'GarageCond_Fa', 'GarageCond_Gd', 'GarageCond_Missing', 'GarageCond_Po', 'GarageCond_TA', 'PavedDrive_N', 'PavedDrive_P', 'PavedDrive_Y', 'PoolQC_Ex', 'PoolQC_Fa', 'PoolQC_Gd', 'PoolQC_Missing', 'Fence_GdPrv', 'Fence_GdWo', 'Fence_Missing', 'Fence_MnPrv', 'Fence_MnWw', 'MiscFeature_Gar2', 'MiscFeature_Missing', 'MiscFeature_Othr', 'MiscFeature_Shed', 'MiscFeature_TenC', 'SaleType_COD', 'SaleType_CWD', 'SaleType_Con', 'SaleType_ConLD', 'SaleType_ConLI', 'SaleType_ConLw', 'SaleType_New', 'SaleType_Oth', 'SaleType_WD', 'SaleCondition_Abnorml', 'SaleCondition_AdjLand', 'SaleCondition_Alloca', 'SaleCondition_Family', 'SaleCondition_Normal', 'SaleCondition_Partial']\n"
     ]
    }
   ],
   "source": [
    "print(list(df_dropped.columns)) "
   ]
  },
  {
   "cell_type": "code",
   "execution_count": 247,
   "id": "a8f4a69e-b312-423e-a1a9-b863214fec56",
   "metadata": {},
   "outputs": [
    {
     "data": {
      "text/plain": [
       "'C:\\\\Users\\\\berra\\\\House Prices'"
      ]
     },
     "execution_count": 247,
     "metadata": {},
     "output_type": "execute_result"
    }
   ],
   "source": [
    "import os\n",
    "os.getcwd()"
   ]
  }
 ],
 "metadata": {
  "kernelspec": {
   "display_name": "Python 3 (ipykernel)",
   "language": "python",
   "name": "python3"
  },
  "language_info": {
   "codemirror_mode": {
    "name": "ipython",
    "version": 3
   },
   "file_extension": ".py",
   "mimetype": "text/x-python",
   "name": "python",
   "nbconvert_exporter": "python",
   "pygments_lexer": "ipython3",
   "version": "3.12.3"
  }
 },
 "nbformat": 4,
 "nbformat_minor": 5
}
